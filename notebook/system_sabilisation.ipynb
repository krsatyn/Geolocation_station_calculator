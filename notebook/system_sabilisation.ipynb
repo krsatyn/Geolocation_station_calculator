{
 "cells": [
  {
   "cell_type": "code",
   "execution_count": 1,
   "metadata": {},
   "outputs": [],
   "source": [
    "import numpy as np\n",
    "import matplotlib.pyplot as plt\n",
    "import seaborn as sns\n",
    "#import tk\n",
    "\n",
    "from scipy.optimize import fsolve"
   ]
  },
  {
   "cell_type": "markdown",
   "metadata": {},
   "source": [
    "______________________________________________________________________________________________________________________________________________\n",
    "# Начальные параметры\n",
    "______________________________________________________________________________________________________________________________________________"
   ]
  },
  {
   "cell_type": "markdown",
   "metadata": {},
   "source": [
    "Координаты точек"
   ]
  },
  {
   "cell_type": "code",
   "execution_count": 2,
   "metadata": {},
   "outputs": [],
   "source": [
    "import pyproj\n",
    "# Конвертация в X и Y\n",
    "def lonlat_to_xy(lon, lat):\n",
    "    proj_latlon = pyproj.Proj(proj='latlong',datum='WGS84')\n",
    "    proj_xy = pyproj.Proj(proj=\"utm\", zone=33, datum='WGS84')\n",
    "    xy = pyproj.transform(proj_latlon, proj_xy, lon, lat)\n",
    "    return [xy[0], xy[1]]"
   ]
  },
  {
   "cell_type": "code",
   "execution_count": 3,
   "metadata": {},
   "outputs": [
    {
     "name": "stderr",
     "output_type": "stream",
     "text": [
      "C:\\Users\\kolyagin\\AppData\\Local\\Temp\\ipykernel_16168\\1368368473.py:6: FutureWarning: This function is deprecated. See: https://pyproj4.github.io/pyproj/stable/gotchas.html#upgrading-to-pyproj-2-from-pyproj-1\n",
      "  xy = pyproj.transform(proj_latlon, proj_xy, lon, lat)\n",
      "C:\\Users\\kolyagin\\AppData\\Local\\Temp\\ipykernel_16168\\1368368473.py:6: FutureWarning: This function is deprecated. See: https://pyproj4.github.io/pyproj/stable/gotchas.html#upgrading-to-pyproj-2-from-pyproj-1\n",
      "  xy = pyproj.transform(proj_latlon, proj_xy, lon, lat)\n",
      "C:\\Users\\kolyagin\\AppData\\Local\\Temp\\ipykernel_16168\\1368368473.py:6: FutureWarning: This function is deprecated. See: https://pyproj4.github.io/pyproj/stable/gotchas.html#upgrading-to-pyproj-2-from-pyproj-1\n",
      "  xy = pyproj.transform(proj_latlon, proj_xy, lon, lat)\n",
      "C:\\Users\\kolyagin\\AppData\\Local\\Temp\\ipykernel_16168\\1368368473.py:6: FutureWarning: This function is deprecated. See: https://pyproj4.github.io/pyproj/stable/gotchas.html#upgrading-to-pyproj-2-from-pyproj-1\n",
      "  xy = pyproj.transform(proj_latlon, proj_xy, lon, lat)\n"
     ]
    },
    {
     "data": {
      "image/png": "[encoded data removed]",
      "text/plain": [
       "<Figure size 640x480 with 1 Axes>"
      ]
     },
     "metadata": {},
     "output_type": "display_data"
    }
   ],
   "source": [
    "A_coord=[3171758.7398973103, 6301814.437391241]\n",
    "calc_B=[3171802.4817291554 , 6301855.75422857]\n",
    "calc_C=[3171841.94         , 6301830.99]\n",
    "calc_D=[3171792.43         , 6301781.98]\n",
    "\n",
    "STATION_3_map = lonlat_to_xy(53.208388, 50.259608)\n",
    "STATION_4_map = lonlat_to_xy(53.209152, 50.259474)\n",
    "STATION_5_map = lonlat_to_xy(53.208839, 50.259005)\n",
    "STATION_6_map = lonlat_to_xy(53.208654, 50.260126)\n",
    "\n",
    "\n",
    "plt.plot(STATION_3_map[0], STATION_3_map[1], 'ro')\n",
    "plt.text(STATION_3_map[0], STATION_3_map[1]+0.1, 'A_REAL')\n",
    "\n",
    "plt.plot(STATION_4_map[0], STATION_4_map[1], 'ro')\n",
    "plt.text(STATION_4_map[0], STATION_4_map[1]+0.1, 'C_REAL')\n",
    "\n",
    "plt.plot(STATION_5_map[0], STATION_5_map[1], 'ro')\n",
    "plt.text(STATION_5_map[0], STATION_5_map[1]+0.1, 'B_REAL')\n",
    "\n",
    "plt.plot(STATION_6_map[0], STATION_6_map[1], 'ro')\n",
    "plt.text(STATION_6_map[0], STATION_6_map[1]+0.1, 'D_REAL')\n",
    "\n",
    "\n",
    "A = np.array(STATION_6_map)\n",
    "B = np.array(STATION_4_map)\n",
    "C = np.array(STATION_5_map)\n",
    "D = np.array(STATION_3_map)\n",
    "\n",
    "\n",
    "#plt.plot(A_coord[0], A_coord[1], 'ro')\n",
    "#plt.text(A_coord[0], A_coord[1]+0.1, 'calc_A')\n",
    "#\n",
    "#plt.plot(calc_B[0], calc_B[1], 'ro') \n",
    "#plt.text(calc_B[0], calc_B[1]+0.1, 'calc_B')\n",
    "#\n",
    "#plt.plot(calc_C[0], calc_C[1], 'ro') \n",
    "#plt.text(calc_C[0], calc_C[1]+0.1, 'calc_C')\n",
    "#\n",
    "#plt.plot(calc_D[0], calc_D[1], 'ro') \n",
    "#plt.text(calc_D[0], calc_D[1]+0.1, 'calc_D')\n",
    "\n",
    "\n",
    "plt.show()"
   ]
  },
  {
   "cell_type": "code",
   "execution_count": 4,
   "metadata": {},
   "outputs": [
    {
     "data": {
      "text/plain": [
       "[array([3171743.9124932 , 6301878.77612708]),\n",
       " array([3171817.86552491, 6301831.27746316]),\n",
       " array([3171826.49953741, 6301770.12313139]),\n",
       " array([3171758.73989731, 6301814.43739124])]"
      ]
     },
     "execution_count": 4,
     "metadata": {},
     "output_type": "execute_result"
    }
   ],
   "source": [
    "# A = np.array([1, 3])\n",
    "# B = np.array([3, 4])\n",
    "# C = np.array([4, 1])\n",
    "# D = np.array([0, 2])\n",
    "\n",
    "\n",
    "\n",
    "point_list = [A,B,C,D]\n",
    "point_list"
   ]
  },
  {
   "cell_type": "markdown",
   "metadata": {},
   "source": [
    "Вектор AB"
   ]
  },
  {
   "cell_type": "code",
   "execution_count": 5,
   "metadata": {},
   "outputs": [
    {
     "data": {
      "text/plain": [
       "array([ 73.95303171, -47.49866392])"
      ]
     },
     "execution_count": 5,
     "metadata": {},
     "output_type": "execute_result"
    }
   ],
   "source": [
    "vec_AB = np.array([B[0]-A[0], B[1]-A[1]])\n",
    "vec_AB"
   ]
  },
  {
   "cell_type": "markdown",
   "metadata": {},
   "source": [
    "Вычисление растояний между точками"
   ]
  },
  {
   "cell_type": "code",
   "execution_count": 6,
   "metadata": {},
   "outputs": [
    {
     "data": {
      "text/plain": [
       "[np.float64(87.89296885133827),\n",
       " np.float64(87.89296885133827),\n",
       " np.float64(61.76081659056897),\n",
       " np.float64(61.76081659056897),\n",
       " np.float64(80.96371072064974),\n",
       " np.float64(80.96371072064974),\n",
       " np.float64(66.02518338847916),\n",
       " np.float64(66.02518338847916)]"
      ]
     },
     "execution_count": 6,
     "metadata": {},
     "output_type": "execute_result"
    }
   ],
   "source": [
    "\n",
    "AB = BA = np.linalg.norm(A-B)\n",
    "\n",
    "BC = CB = np.linalg.norm(C-B)\n",
    "\n",
    "CD = DC = np.linalg.norm(C-D)\n",
    "\n",
    "AC = CA = np.linalg.norm(C-A)\n",
    "\n",
    "DA = AD = np.linalg.norm(A-D)\n",
    "\n",
    "BD = DB = np.linalg.norm(B-D)\n",
    "\n",
    "point_len_list = [AB, BA, BC, CB, CD, DC, DA, AD]\n",
    "\n",
    "point_len_list"
   ]
  },
  {
   "cell_type": "code",
   "execution_count": 7,
   "metadata": {},
   "outputs": [
    {
     "name": "stdout",
     "output_type": "stream",
     "text": [
      "87.89296885133827\n",
      "136.4774462843941\n",
      "61.76081659056897\n",
      "66.02518338847916\n",
      "61.477051502403114\n"
     ]
    }
   ],
   "source": [
    "print(AB)\n",
    "print(AC)\n",
    "print(BC)\n",
    "print(AD)\n",
    "print(BD)"
   ]
  },
  {
   "cell_type": "code",
   "execution_count": 8,
   "metadata": {},
   "outputs": [
    {
     "data": {
      "text/plain": [
       "Text(0.5, 1.0, 'Расположение заданных точек')"
      ]
     },
     "execution_count": 8,
     "metadata": {},
     "output_type": "execute_result"
    },
    {
     "data": {
      "image/png": "[encoded data removed]",
      "text/plain": [
       "<Figure size 640x480 with 1 Axes>"
      ]
     },
     "metadata": {},
     "output_type": "display_data"
    }
   ],
   "source": [
    "plt.scatter(A[0], A[1])\n",
    "plt.text(A[0], A[1]+0.005, 'A')\n",
    "\n",
    "plt.scatter(B[0], B[1])\n",
    "plt.text(B[0], B[1]+0.005, 'B')\n",
    "\n",
    "plt.scatter(C[0], C[1])\n",
    "plt.text(C[0], C[1]+0.005, 'C')\n",
    "\n",
    "plt.scatter(D[0], D[1])\n",
    "plt.text(D[0], D[1]+0.005, 'D')\n",
    "\n",
    "plt.title('Расположение заданных точек')"
   ]
  },
  {
   "cell_type": "markdown",
   "metadata": {},
   "source": [
    "_______________________________________________________________________________________________________________________________________________\n",
    "# Решение Гипотезы №1 (УСПЕХ)\n",
    "Дано: координаты точки А\n",
    "Растояния: AB, BA, BC, CB, CD, DC, AD, DA\n",
    "Вектор: AB\n",
    "\n",
    "\n",
    "Гипотеза:\n",
    "Зная вектор AB, устанавливаем координаты точки B, далее через системы уравнений находим решения для точки C и D\n",
    "_______________________________________________________________________________________________________________________________________________"
   ]
  },
  {
   "cell_type": "markdown",
   "metadata": {},
   "source": [
    "Высчитываем координаты точки B (через вектор)"
   ]
  },
  {
   "cell_type": "code",
   "execution_count": 9,
   "metadata": {},
   "outputs": [
    {
     "data": {
      "text/plain": [
       "[np.float64(3171817.8655249085), np.float64(6301831.277463161)]"
      ]
     },
     "execution_count": 9,
     "metadata": {},
     "output_type": "execute_result"
    }
   ],
   "source": [
    "\n",
    "\n",
    "calc_B = [vec_AB[0] + A[0], vec_AB[1] + A[1]]\n",
    "calc_B"
   ]
  },
  {
   "cell_type": "markdown",
   "metadata": {},
   "source": [
    "Проверка на совпадение координаты B"
   ]
  },
  {
   "cell_type": "code",
   "execution_count": 10,
   "metadata": {},
   "outputs": [
    {
     "name": "stdout",
     "output_type": "stream",
     "text": [
      "Имеется ли совпадение по координате B: \n",
      "✅\n"
     ]
    }
   ],
   "source": [
    "print('Имеется ли совпадение по координате B: ')\n",
    "if list(calc_B) == list(B):\n",
    "    print('✅')\n",
    "else:\n",
    "    print('❌')"
   ]
  },
  {
   "cell_type": "markdown",
   "metadata": {},
   "source": [
    "Решение системы относительно для координаты C"
   ]
  },
  {
   "cell_type": "code",
   "execution_count": 11,
   "metadata": {},
   "outputs": [
    {
     "name": "stdout",
     "output_type": "stream",
     "text": [
      "Координаты точки C: [3171826.5  6301770.12]\n"
     ]
    }
   ],
   "source": [
    "def equations(vars):\n",
    "    x, y = vars\n",
    "    eq1 = (x-A[0])**2 + (y - A[1])**2 - AC**2  #x**2 + y**2 - 25\n",
    "    eq2 = (x-calc_B[0])**2 + (y - calc_B[1])**2 - BC**2\n",
    "    return [eq1, eq2]\n",
    "\n",
    "initial_guess = [1, 1]\n",
    "calc_C = np.round(fsolve(equations, initial_guess), 2)\n",
    "print(\"Координаты точки C:\", calc_C)"
   ]
  },
  {
   "cell_type": "markdown",
   "metadata": {},
   "source": [
    "Проверка на совпадение координаты C"
   ]
  },
  {
   "cell_type": "code",
   "execution_count": 12,
   "metadata": {},
   "outputs": [
    {
     "name": "stdout",
     "output_type": "stream",
     "text": [
      "❌\n",
      "Получили [3171826.5  6301770.12]\n",
      "Нужное [3171826.49953741 6301770.12313139]\n"
     ]
    }
   ],
   "source": [
    "if list(calc_C) == list(C):\n",
    "    print('✅')\n",
    "else:\n",
    "    print('❌')\n",
    "    print(f'Получили {calc_C}')\n",
    "    print(f'Нужное {C}')"
   ]
  },
  {
   "cell_type": "markdown",
   "metadata": {},
   "source": [
    "Решение системы относительно для координаты D"
   ]
  },
  {
   "cell_type": "code",
   "execution_count": 13,
   "metadata": {},
   "outputs": [
    {
     "name": "stdout",
     "output_type": "stream",
     "text": [
      "Координаты точки D: [3171758.74 6301814.44]\n"
     ]
    }
   ],
   "source": [
    "def equations(vars):\n",
    "    x, y = vars\n",
    "    eq1 = (x-A[0])**2 + (y - A[1])**2 - AD**2\n",
    "    eq2 = (x-calc_B[0])**2 + (y - calc_B[1])**2 - BD**2\n",
    "    return [eq1, eq2]\n",
    "\n",
    "initial_guess = [1, 1]\n",
    "calc_D = np.round(fsolve(equations, initial_guess), 2)\n",
    "print(\"Координаты точки D:\", calc_D)"
   ]
  },
  {
   "cell_type": "markdown",
   "metadata": {},
   "source": [
    "Имеется ли совпадение по координате D"
   ]
  },
  {
   "cell_type": "code",
   "execution_count": 14,
   "metadata": {},
   "outputs": [
    {
     "name": "stdout",
     "output_type": "stream",
     "text": [
      "❌\n",
      "Получили [3171758.74 6301814.44]\n",
      "Нужное [3171758.73989731 6301814.43739124]\n"
     ]
    }
   ],
   "source": [
    "if list(calc_D) == list(D):\n",
    "    print('✅')\n",
    "else:\n",
    "    print('❌')\n",
    "    print(f'Получили {calc_D}')\n",
    "    print(f'Нужное {D}')"
   ]
  },
  {
   "cell_type": "code",
   "execution_count": 15,
   "metadata": {},
   "outputs": [
    {
     "data": {
      "text/plain": [
       "Text(0.5, 1.0, 'Расположение расчетных точек')"
      ]
     },
     "execution_count": 15,
     "metadata": {},
     "output_type": "execute_result"
    },
    {
     "data": {
      "image/png": "[encoded data removed]",
      "text/plain": [
       "<Figure size 640x480 with 1 Axes>"
      ]
     },
     "metadata": {},
     "output_type": "display_data"
    }
   ],
   "source": [
    "plt.scatter(A[0], A[1])\n",
    "plt.text(A[0], A[1]+0.005, 'A')\n",
    "\n",
    "plt.scatter(calc_B[0], calc_B[1])\n",
    "plt.text(calc_B[0], calc_B[1]+0.005, 'calc_B')\n",
    "\n",
    "plt.scatter(calc_C[0], calc_C[1])\n",
    "plt.text(calc_C[0], calc_C[1]+0.005, 'calc_C')\n",
    "\n",
    "plt.scatter(D[0], D[1])\n",
    "plt.text(calc_D[0], calc_D[1]+0.005, 'calc_D')\n",
    "\n",
    "\n",
    "plt.scatter(A[0], A[1])\n",
    "plt.text(A[0], A[1]+0.005, 'A')\n",
    "\n",
    "plt.scatter(B[0], B[1])\n",
    "plt.text(B[0], B[1]+0.005, 'B')\n",
    "\n",
    "plt.scatter(C[0], C[1])\n",
    "plt.text(C[0], C[1]+0.005, 'C')\n",
    "\n",
    "plt.scatter(D[0], D[1])\n",
    "plt.text(D[0], D[1]+0.005, 'D')\n",
    "\n",
    "plt.title('Расположение расчетных точек')"
   ]
  },
  {
   "cell_type": "code",
   "execution_count": 17,
   "metadata": {},
   "outputs": [
    {
     "name": "stderr",
     "output_type": "stream",
     "text": [
      "C:\\Users\\kolyagin\\AppData\\Local\\Temp\\ipykernel_16168\\3388077717.py:6: FutureWarning: This function is deprecated. See: https://pyproj4.github.io/pyproj/stable/gotchas.html#upgrading-to-pyproj-2-from-pyproj-1\n",
      "  lonlat = pyproj.transform(proj_xy, proj_latlon, x, y)\n",
      "C:\\Users\\kolyagin\\AppData\\Local\\Temp\\ipykernel_16168\\3388077717.py:6: FutureWarning: This function is deprecated. See: https://pyproj4.github.io/pyproj/stable/gotchas.html#upgrading-to-pyproj-2-from-pyproj-1\n",
      "  lonlat = pyproj.transform(proj_xy, proj_latlon, x, y)\n",
      "C:\\Users\\kolyagin\\AppData\\Local\\Temp\\ipykernel_16168\\3388077717.py:6: FutureWarning: This function is deprecated. See: https://pyproj4.github.io/pyproj/stable/gotchas.html#upgrading-to-pyproj-2-from-pyproj-1\n",
      "  lonlat = pyproj.transform(proj_xy, proj_latlon, x, y)\n",
      "C:\\Users\\kolyagin\\AppData\\Local\\Temp\\ipykernel_16168\\3388077717.py:6: FutureWarning: This function is deprecated. See: https://pyproj4.github.io/pyproj/stable/gotchas.html#upgrading-to-pyproj-2-from-pyproj-1\n",
      "  lonlat = pyproj.transform(proj_xy, proj_latlon, x, y)\n"
     ]
    }
   ],
   "source": [
    "import folium\n",
    "# Конвертация в долготы и широты\n",
    "def xy_to_lonlat(x, y):\n",
    "    proj_latlon = pyproj.Proj(proj='latlong',datum='WGS84')\n",
    "    proj_xy = pyproj.Proj(proj=\"utm\", zone=33, datum='WGS84')\n",
    "    lonlat = pyproj.transform(proj_xy, proj_latlon, x, y)\n",
    "    return lonlat[0], lonlat[1]\n",
    "\n",
    "\n",
    "A_m = xy_to_lonlat(A_coord[0], A_coord[0])\n",
    "B_m = xy_to_lonlat(calc_B[0], calc_B[1])\n",
    "C_m = xy_to_lonlat(calc_C[0], calc_C[1])\n",
    "D_m = xy_to_lonlat(calc_D[0], calc_D[1])\n",
    "\n",
    "map = folium.Map(location=(53.208388, 50.259608), zoom_start=100)\n",
    "\n",
    "STATION_3_map = [53.208388, 50.259608]\n",
    "STATION_4_map = [53.209152, 50.259474]\n",
    "STATION_5_map = [53.208839, 50.259005]\n",
    "STATION_6_map = [53.208654, 50.260126]\n",
    "\n",
    "\n",
    "folium.Marker(A_m, '6').add_to(map)\n",
    "folium.Marker(B_m, '4').add_to(map)\n",
    "folium.Marker(C_m, '5').add_to(map)\n",
    "folium.Marker(D_m, '3').add_to(map)\n",
    "\n",
    "\n",
    "# folium.Marker(STATION_6_map, 'real 6').add_to(map)\n",
    "# folium.Marker(STATION_4_map, 'real 4').add_to(map)\n",
    "# folium.Marker(STATION_5_map, 'real 5').add_to(map)\n",
    "# folium.Marker(STATION_3_map, 'real 3').add_to(map)\n",
    "\n",
    "map.save(\"test123.html\")"
   ]
  },
  {
   "cell_type": "markdown",
   "metadata": {},
   "source": [
    "# Конец"
   ]
  }
 ],
 "metadata": {
  "kernelspec": {
   "display_name": ".venv",
   "language": "python",
   "name": "python3"
  },
  "language_info": {
   "codemirror_mode": {
    "name": "ipython",
    "version": 3
   },
   "file_extension": ".py",
   "mimetype": "text/x-python",
   "name": "python",
   "nbconvert_exporter": "python",
   "pygments_lexer": "ipython3",
   "version": "3.10.1"
  }
 },
 "nbformat": 4,
 "nbformat_minor": 2
}
